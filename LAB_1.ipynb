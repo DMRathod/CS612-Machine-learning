{
 "cells": [
  {
   "cell_type": "markdown",
   "metadata": {},
   "source": [
    "# <center> IIIT Vadodara </center>\n",
    "## <center> Winter 2021-22 </center>\n",
    "## <center> CS 612, CS 652, CS/IT 308 Machine Learning </center>\n",
    "## <center> Lab#1 INTRODUCTION </center>"
   ]
  },
  {
   "cell_type": "markdown",
   "metadata": {
    "colab_type": "text",
    "id": "SC8rZl_fnw1d"
   },
   "source": [
    "## Basic of Numbers in python"
   ]
  },
  {
   "cell_type": "code",
   "execution_count": null,
   "metadata": {
    "colab": {},
    "colab_type": "code",
    "id": "Rr8W2uMznw1g"
   },
   "outputs": [],
   "source": [
    "x = 3\n",
    "print (x, type(x))"
   ]
  },
  {
   "cell_type": "code",
   "execution_count": null,
   "metadata": {
    "colab": {},
    "colab_type": "code",
    "id": "SJouww7Inw1p"
   },
   "outputs": [],
   "source": [
    "print (x + 1)   # Addition;\n",
    "print (x - 1)   # Subtraction;\n",
    "print (x * 2)   # Multiplication;\n",
    "print (x ** 2)  # Exponentiation;"
   ]
  },
  {
   "cell_type": "code",
   "execution_count": null,
   "metadata": {
    "colab": {},
    "colab_type": "code",
    "id": "nj14uZF2nw1z"
   },
   "outputs": [],
   "source": [
    "x += 1\n",
    "print (x)  # Prints \"4\"\n",
    "x *= 2\n",
    "print (x)  # Prints \"8\""
   ]
  },
  {
   "cell_type": "code",
   "execution_count": null,
   "metadata": {
    "colab": {},
    "colab_type": "code",
    "id": "gUMeY7ILnw16"
   },
   "outputs": [],
   "source": [
    "y = 2.5\n",
    "print (type(y) )# Prints \"<type 'float'>\"\n",
    "print (y, y + 1, y * 2, y ** 2) # Prints \"2.5 3.5 5.0 6.25\""
   ]
  },
  {
   "cell_type": "markdown",
   "metadata": {
    "colab_type": "text",
    "id": "qxvvHiItnw2H"
   },
   "source": [
    "Note that unlike many languages, Python does not have unary increment (x++) or decrement (x--) operators.\n",
    "\n",
    "Python also has built-in types for long integers and complex numbers; you can find all of the details in the [documentation](https://docs.python.org/2/library/stdtypes.html#numeric-types-int-float-long-complex)."
   ]
  },
  {
   "cell_type": "markdown",
   "metadata": {
    "colab_type": "text",
    "id": "EPF5FeiybxYi"
   },
   "source": [
    "## Numpy \n",
    "Numpy is the core library for scientific computing in Python. It provides a high-performance multidimensional array object, and tools for working with these arrays. If you are already familiar with MATLAB,"
   ]
  },
  {
   "cell_type": "code",
   "execution_count": 3,
   "metadata": {
    "colab": {},
    "colab_type": "code",
    "id": "zzuw0IDlb4uY"
   },
   "outputs": [],
   "source": [
    "import numpy as np"
   ]
  },
  {
   "cell_type": "markdown",
   "metadata": {
    "colab_type": "text",
    "id": "UjZvGRYzb6xp"
   },
   "source": [
    "Find details of mathemetical function in numpy  at https://docs.scipy.org/doc/numpy-1.15.0/reference/routines.math.html"
   ]
  },
  {
   "cell_type": "markdown",
   "metadata": {
    "colab_type": "text",
    "id": "WM95q6CkXwv6"
   },
   "source": [
    "## <font color='red'>1. Evaluate the expression $a^3+\\sqrt{bd}-4c$, where $a=1.2, b=2.3, c=4.5$ and $d=4$.</font> "
   ]
  },
  {
   "cell_type": "code",
   "execution_count": 3,
   "metadata": {
    "colab": {},
    "colab_type": "code",
    "id": "3CI1OWaFYsyg"
   },
   "outputs": [
    {
     "name": "stdout",
     "output_type": "stream",
     "text": [
      "-13.23884982237938\n"
     ]
    }
   ],
   "source": [
    "#Write your code\n",
    "a=1.2\n",
    "b=2.3\n",
    "c=4.5\n",
    "d=4\n",
    "solution = a**3+np.sqrt(b*d)-4*c\n",
    "print(solution)"
   ]
  },
  {
   "cell_type": "markdown",
   "metadata": {
    "colab_type": "text",
    "id": "e_J4a3YEfe6P"
   },
   "source": [
    "## Numpy array indexing and array operations\n",
    "Help to create Numpy array: https://docs.scipy.org/doc/numpy-1.15.0/reference/generated/numpy.array.html#numpy.array\n",
    "\n",
    "Help to create Numpy array indexing:https://docs.scipy.org/doc/numpy-1.15.0/reference/arrays.indexing.html\n",
    "\n",
    "Help to create Numpy for matlab user:https://docs.scipy.org/doc/numpy/user/numpy-for-matlab-users.html\n"
   ]
  },
  {
   "cell_type": "markdown",
   "metadata": {
    "colab_type": "text",
    "id": "3IPVZYK9dkxa"
   },
   "source": [
    "## <font color='red'>2. Consider the two matrices: </font>\n",
    "\n",
    "$A=\\begin{bmatrix}4 & -6 \\\\6 & 10\n",
    "\\end{bmatrix}$ $B=\\begin{bmatrix}6 & -13 \\\\3.4 & 16\n",
    "\\end{bmatrix}$.\n",
    "## <font color='red'>Find: (a) $A+B$ (b) $B^2$ (c) $AB$ (d) $B^TA^T$ (e) Replace the second column of $A$ with that of $B$. "
   ]
  },
  {
   "cell_type": "code",
   "execution_count": 4,
   "metadata": {
    "colab": {},
    "colab_type": "code",
    "id": "w-nnu6l4gIY6"
   },
   "outputs": [],
   "source": [
    "#write your code\n",
    "A = np.matrix([[4, -6], [6, 10]])\n",
    "B = np.matrix([[6, -13], [3.4, 16]])\n",
    "\n",
    "##(a)\n",
    "# print(A+B)\n",
    "#(b)\n",
    "# print(np.dot(B,B))\n",
    "#(c)\n",
    "# print(np.dot(A,B))\n",
    "#(d)\n",
    "# AT = A.transpose()\n",
    "# BT = B.transpose()\n",
    "# print(np.dot(AT,BT))\n",
    "#(e)\n",
    "# A[:1] = B[:1]\n",
    "# print(A)\n"
   ]
  },
  {
   "cell_type": "code",
   "execution_count": 13,
   "metadata": {},
   "outputs": [
    {
     "data": {
      "text/plain": [
       "matrix([[ 10. , -19. ],\n",
       "        [  9.4,  26. ]])"
      ]
     },
     "execution_count": 13,
     "metadata": {},
     "output_type": "execute_result"
    }
   ],
   "source": [
    "A+B"
   ]
  },
  {
   "cell_type": "code",
   "execution_count": 14,
   "metadata": {},
   "outputs": [
    {
     "name": "stdout",
     "output_type": "stream",
     "text": [
      "[[  -8.2 -286. ]\n",
      " [  74.8  211.8]]\n"
     ]
    }
   ],
   "source": [
    " print(np.dot(B,B))"
   ]
  },
  {
   "cell_type": "code",
   "execution_count": 15,
   "metadata": {},
   "outputs": [
    {
     "name": "stdout",
     "output_type": "stream",
     "text": [
      "[[   3.6 -148. ]\n",
      " [  70.    82. ]]\n"
     ]
    }
   ],
   "source": [
    "print(np.dot(A,B))"
   ]
  },
  {
   "cell_type": "code",
   "execution_count": 17,
   "metadata": {},
   "outputs": [
    {
     "name": "stdout",
     "output_type": "stream",
     "text": [
      "[[   3.6   70. ]\n",
      " [-148.    82. ]]\n"
     ]
    }
   ],
   "source": [
    "AT = A.transpose()\n",
    "BT = B.transpose()\n",
    "print(np.dot(BT,AT))"
   ]
  },
  {
   "cell_type": "code",
   "execution_count": 5,
   "metadata": {},
   "outputs": [
    {
     "data": {
      "text/plain": [
       "matrix([[  4, -13],\n",
       "        [  6,  16]])"
      ]
     },
     "execution_count": 5,
     "metadata": {},
     "output_type": "execute_result"
    }
   ],
   "source": [
    "A[:,1] = B[:,1]\n",
    "A"
   ]
  },
  {
   "cell_type": "markdown",
   "metadata": {
    "colab_type": "text",
    "id": "AaDe3HVi-mgV"
   },
   "source": [
    "## Numpy : Linear *algebra*\n",
    "https://docs.scipy.org/doc/numpy-1.15.0/reference/routines.linalg.html"
   ]
  },
  {
   "cell_type": "markdown",
   "metadata": {
    "colab_type": "text",
    "id": "QyptrBW578Se"
   },
   "source": [
    "## <font color='red'>3. Find the solution of the following set of linear algebraic equations:$$5x+6y+10z=4$$ $$-3x+14z=10$$ $$-7y+21z=0$$</font> "
   ]
  },
  {
   "cell_type": "code",
   "execution_count": 6,
   "metadata": {
    "colab": {},
    "colab_type": "code",
    "id": "F6Ta5w348idj"
   },
   "outputs": [
    {
     "data": {
      "text/plain": [
       "array([-1.45454545,  1.20779221,  0.4025974 ])"
      ]
     },
     "execution_count": 6,
     "metadata": {},
     "output_type": "execute_result"
    }
   ],
   "source": [
    "#write your code\n",
    "A = np.array([[5 ,6, 10],[-3, 0, 14],[0, -7, 21]])\n",
    "B = np.array([4 ,10 ,0])\n",
    "x = np.linalg.solve(A,B)\n",
    "x\n"
   ]
  },
  {
   "cell_type": "markdown",
   "metadata": {
    "colab_type": "text",
    "id": "zhGD6rIYCJ8i"
   },
   "source": [
    "## <font color='red'>4. Find the solution of the following set of linear algebraic equations such that $\\Vert Ax-b\\Vert^2_2$is minimized:$$5x+6y+10z=4$$ $$-3x+14z=10$$ $$-7y+21z=0$$$$2x-y+45z=16$$</font> \n",
    "Hint: Use psudo inverse"
   ]
  },
  {
   "cell_type": "code",
   "execution_count": 7,
   "metadata": {
    "colab": {},
    "colab_type": "code",
    "id": "HyVZ5bHKC6Lr"
   },
   "outputs": [
    {
     "name": "stdout",
     "output_type": "stream",
     "text": [
      "x,y,z =  [-0.09338137  0.05369541  0.00602526]\n",
      "Solution [-0.08448184  0.36449775 -0.2493374   0.03067851]\n",
      "Error:  [377.09745941 350.6615696  387.20892039 370.16305437]\n"
     ]
    }
   ],
   "source": [
    "#write your code\n",
    "import numpy as np\n",
    "from numpy import linalg\n",
    "A = np.array(np.mat('5 6 10;-3 0 14;0 -7 21;2 -1 45'))\n",
    "B = np.array(np.mat('4;10;0;16'))\n",
    "AT = np.transpose(A)\n",
    "inverse = np.linalg.inv(AT.dot(A))\n",
    "solu= AT.dot(B)\n",
    "x = inverse.dot(x)\n",
    "print(\"x,y,z = \",x)\n",
    "print(\"Solution\",A.dot(x))\n",
    "error = (B-A.dot(x))**2\n",
    "sum = 0\n",
    "for e in error:\n",
    "    sum +=e\n",
    "print(\"Error: \",sum)\n"
   ]
  },
  {
   "cell_type": "markdown",
   "metadata": {
    "colab_type": "text",
    "id": "3B34NIubEbA-"
   },
   "source": [
    "## <font color='red'>5. create following two arrays:\n",
    "(a) Array of ones with 10 elements \n",
    "(b) Array a[1] = 2; a[2] = 3 and a[3] to a[10] are zero</font> "
   ]
  },
  {
   "cell_type": "code",
   "execution_count": 8,
   "metadata": {
    "colab": {},
    "colab_type": "code",
    "id": "iu6GxTFAFZFP"
   },
   "outputs": [
    {
     "name": "stdout",
     "output_type": "stream",
     "text": [
      "a\n",
      "[1. 1. 1. 1. 1. 1. 1. 1. 1. 1.]\n",
      "b\n",
      "[2 3 0 0 0 0 0 0 0 0]\n"
     ]
    }
   ],
   "source": [
    "#write code here\n",
    "print('a')\n",
    "a = np.ones(10)\n",
    "print(a)\n",
    "\n",
    "print('b')\n",
    "b = np.array([2,3,0,0,0,0,0,0,0,0])\n",
    "print(b)\n",
    "\n"
   ]
  },
  {
   "cell_type": "markdown",
   "metadata": {
    "colab_type": "text",
    "id": "OnPJvy9GH1H4"
   },
   "source": [
    "##Numpy: Statistics\n",
    "https://docs.scipy.org/doc/numpy-1.15.1/reference/routines.statistics.html\n",
    "\n",
    "For random sampling : https://docs.scipy.org/doc/numpy-1.15.0/reference/routines.random.html"
   ]
  },
  {
   "cell_type": "markdown",
   "metadata": {
    "colab_type": "text",
    "id": "C_ODKpdbF758"
   },
   "source": [
    "## <font color='red'>6. Create two arrays indicating marks of students in two subjects. Get average vector of them.</font> "
   ]
  },
  {
   "cell_type": "code",
   "execution_count": 11,
   "metadata": {
    "colab": {},
    "colab_type": "code",
    "id": "g-ndczyOGJdc"
   },
   "outputs": [
    {
     "name": "stdout",
     "output_type": "stream",
     "text": [
      "64.0\n",
      "50.0\n"
     ]
    }
   ],
   "source": [
    "#write code here\n",
    "import numpy as np\n",
    "subject1_marks = np.array([30,35,40,98,64,55,64,77,98,79])\n",
    "subject2_marks = np.array([45,43,54,75,59,36,47,37,72,32])\n",
    "subject1_average = np.average(subject1_marks)\n",
    "subject2_average = np.average(subject2_marks)\n",
    "print(subject1_average)\n",
    "print(subject2_average)\n",
    "\n"
   ]
  },
  {
   "cell_type": "markdown",
   "metadata": {
    "colab_type": "text",
    "id": "3p0ybKFWbbZO"
   },
   "source": [
    "## Matplotlib: For Plot\n",
    "https://matplotlib.org/tutorials/introductory/pyplot.html#sphx-glr-tutorials-introductory-pyplot-py"
   ]
  },
  {
   "cell_type": "code",
   "execution_count": 12,
   "metadata": {
    "colab": {},
    "colab_type": "code",
    "id": "5onZQOXoJDbZ"
   },
   "outputs": [],
   "source": [
    "import matplotlib.pyplot as plt\n",
    "%matplotlib inline\n"
   ]
  },
  {
   "cell_type": "markdown",
   "metadata": {
    "colab_type": "text",
    "id": "Q8aC6tu_IQGE"
   },
   "source": [
    "## <font color='red'>7. Plot the following linear functions:\n",
    "\n",
    "1.   $y=2x+3 $ from $-10\\le x\\le 10$ \n",
    "2.   $y=x-15 $ from $-10\\le x\\le 10$\n",
    "<font>\n"
   ]
  },
  {
   "cell_type": "code",
   "execution_count": 13,
   "metadata": {
    "colab": {},
    "colab_type": "code",
    "id": "3BPpQrpZnw-q"
   },
   "outputs": [
    {
     "data": {
      "image/png": "[encoded data removed]",
      "text/plain": [
       "<Figure size 432x288 with 1 Axes>"
      ]
     },
     "metadata": {
      "needs_background": "light"
     },
     "output_type": "display_data"
    }
   ],
   "source": [
    "# write code here for 1\n",
    "def f(x):\n",
    "    return (2*x+3)\n",
    "x = np.linspace(-10,10)\n",
    "plt.plot(x,f(x))\n",
    "plt.show()\n",
    "\n"
   ]
  },
  {
   "cell_type": "code",
   "execution_count": 14,
   "metadata": {
    "colab": {},
    "colab_type": "code",
    "id": "4i-cG2VKKBUN"
   },
   "outputs": [
    {
     "data": {
      "image/png": "[encoded data removed]",
      "text/plain": [
       "<Figure size 432x288 with 1 Axes>"
      ]
     },
     "metadata": {
      "needs_background": "light"
     },
     "output_type": "display_data"
    }
   ],
   "source": [
    "# write code here for 2\n",
    "def f(x):\n",
    "    return x-15\n",
    "x = np.linspace(-10,10)\n",
    "plt.plot(x,f(x))\n",
    "plt.show()\n",
    "\n"
   ]
  },
  {
   "cell_type": "markdown",
   "metadata": {},
   "source": [
    "## <font color='red'>8. Plot the following non-linear functions:\n",
    "\n",
    "1.   $y=2x^2+3x+1 $ from $-10\\le x\\le 10$ \n",
    "2.   $y=x^3+1 $ from $-10\\le x\\le 10$\n",
    "<font>"
   ]
  },
  {
   "cell_type": "code",
   "execution_count": 15,
   "metadata": {
    "colab": {},
    "colab_type": "code",
    "id": "07HnsfnSdjqk"
   },
   "outputs": [
    {
     "data": {
      "image/png": "[encoded data removed]",
      "text/plain": [
       "<Figure size 432x288 with 1 Axes>"
      ]
     },
     "metadata": {
      "needs_background": "light"
     },
     "output_type": "display_data"
    }
   ],
   "source": [
    "# write code here for 3\n",
    "def f(x):\n",
    "    return 2*(x**2)+3*x+1\n",
    "x = np.linspace(-10,10)\n",
    "plt.plot(x,f(x))\n",
    "plt.show()\n"
   ]
  },
  {
   "cell_type": "code",
   "execution_count": 16,
   "metadata": {
    "colab": {},
    "colab_type": "code",
    "id": "zH53q0TcdkPv"
   },
   "outputs": [
    {
     "data": {
      "image/png": "[encoded data removed]",
      "text/plain": [
       "<Figure size 432x288 with 1 Axes>"
      ]
     },
     "metadata": {
      "needs_background": "light"
     },
     "output_type": "display_data"
    }
   ],
   "source": [
    "# write code here for 4\n",
    "def f(x):\n",
    "    return x**3+1\n",
    "x = np.linspace(-10,10)\n",
    "plt.plot(x,f(x))\n",
    "plt.show()\n",
    "\n"
   ]
  },
  {
   "cell_type": "markdown",
   "metadata": {
    "colab_type": "text",
    "id": "GobP2IePGThL"
   },
   "source": [
    "## <font color='red'>9. Write code to verify whether the given vectors are linearly independent or not.\n",
    "v1 = [6 0 3 1 4 2];\n",
    "v2 = [0 -1 2 7 0 5];\n",
    "v3 = [12 3 0 -19 8 -11].</font> \n",
    "\n",
    "Hint: You can use matrix rank or rref form with help of numpy.linalg library "
   ]
  },
  {
   "cell_type": "code",
   "execution_count": 17,
   "metadata": {
    "colab": {},
    "colab_type": "code",
    "id": "hYOPaUUqG0-Y"
   },
   "outputs": [
    {
     "name": "stdout",
     "output_type": "stream",
     "text": [
      "Linearly dependent vector\n"
     ]
    }
   ],
   "source": [
    "#write code here\n",
    "A = np.array(np.mat('6 0 3 1 4 2;0 -1 2 7 0 5;12 3 0 -19 8 -11'))\n",
    "A\n",
    "from numpy.linalg import matrix_rank\n",
    "rank = matrix_rank(A)\n",
    "numcols = len(A[0])\n",
    "if (rank < numcols):\n",
    "    print(\"Linearly dependent vector\")\n",
    "else:\n",
    "    print(\"Linearly independent vector\")\n",
    "\n"
   ]
  },
  {
   "cell_type": "markdown",
   "metadata": {
    "colab_type": "text",
    "id": "dHjk5I0QM3S0"
   },
   "source": [
    "## <font color='red'>10. For real symmetric matrix.  \n",
    "1.   Find the Eigen values and eigen vectors\n",
    "2.   Verify properties of Eigen values and Eigen vector.</font>\n",
    "\n",
    "As example, $A=\\begin{bmatrix}1 & 2 & 3 \\\\2 & 5 & 6\\\\3 & 6 & 7\n",
    "\\end{bmatrix}$"
   ]
  },
  {
   "cell_type": "code",
   "execution_count": 18,
   "metadata": {
    "colab": {},
    "colab_type": "code",
    "id": "pIwy4pqQN1cn"
   },
   "outputs": [
    {
     "data": {
      "text/plain": [
       "array([-0.4667216 ,  0.32610415, 13.14061745])"
      ]
     },
     "execution_count": 18,
     "metadata": {},
     "output_type": "execute_result"
    }
   ],
   "source": [
    "#write code here\n",
    "from numpy.linalg import eigh\n",
    "A = np.array(np.mat('1 2 3;2 5 6;3 6 7'))\n",
    "eigen_vals, eigen_vecs = eigh(A)\n",
    "eigen_vals\n"
   ]
  },
  {
   "cell_type": "code",
   "execution_count": 19,
   "metadata": {},
   "outputs": [
    {
     "data": {
      "text/plain": [
       "array([[ 0.66831303,  0.68784863, -0.28323481],\n",
       "       [ 0.42532424, -0.66571204, -0.61312867],\n",
       "       [-0.61029254,  0.28929525, -0.73746272]])"
      ]
     },
     "execution_count": 19,
     "metadata": {},
     "output_type": "execute_result"
    }
   ],
   "source": [
    "eigen_vecs"
   ]
  },
  {
   "cell_type": "markdown",
   "metadata": {
    "colab_type": "text",
    "id": "167i2Ni7X1oZ"
   },
   "source": [
    "## Python Function:\n",
    "https://www.tutorialspoint.com/python/python_functions.htm"
   ]
  },
  {
   "cell_type": "markdown",
   "metadata": {
    "colab_type": "text",
    "id": "iauUBzH2SKPk"
   },
   "source": [
    "## <font color='red'>11. Write code for the following:\n",
    "  \n",
    "\n",
    "1.   Create a column vector with 10 values of temperature in degree centigrade $C^\\circ$\n",
    "2.   Convert each of the temperature values in degree Fahrenheit using the formula $$F^\\circ=\\frac{9}{2}C^\\circ+32$$\n",
    "1.   Make the final matrix with temperature values in $C^\\circ$ as the first column and in F as the second column.\n",
    "<font>\n",
    "\n"
   ]
  },
  {
   "cell_type": "code",
   "execution_count": 40,
   "metadata": {
    "colab": {},
    "colab_type": "code",
    "id": "RDtWZvYuTsPS"
   },
   "outputs": [],
   "source": [
    "def ctof(C):\n",
    "  #write code here to convert c to f\n",
    "    feranhit = []\n",
    "    for c in C:\n",
    "        f = (9/2)*float(c)+float(32)\n",
    "        feranhit.append(f)\n",
    "    feranhit\n",
    "    return feranhit"
   ]
  },
  {
   "cell_type": "code",
   "execution_count": 41,
   "metadata": {
    "colab": {},
    "colab_type": "code",
    "id": "DqwYVjmWUz4H"
   },
   "outputs": [],
   "source": [
    "#write code for 1\n",
    "\n",
    "centigrate = [70,44,65,35,24,25,52,32,45,65]\n"
   ]
  },
  {
   "cell_type": "code",
   "execution_count": 43,
   "metadata": {
    "colab": {},
    "colab_type": "code",
    "id": "--ytBr4EYEL_"
   },
   "outputs": [
    {
     "name": "stdout",
     "output_type": "stream",
     "text": [
      "[347.0, 230.0, 324.5, 189.5, 140.0, 144.5, 266.0, 176.0, 234.5, 324.5]\n"
     ]
    }
   ],
   "source": [
    "#write code for 2\n",
    "f = ctof(centigrate)\n",
    "print(f)"
   ]
  },
  {
   "cell_type": "code",
   "execution_count": 44,
   "metadata": {
    "colab": {},
    "colab_type": "code",
    "id": "jHbry5XnYNpN"
   },
   "outputs": [
    {
     "name": "stdout",
     "output_type": "stream",
     "text": [
      "[[ 70.   44.   65.   35.   24.   25.   52.   32.   45.   65. ]\n",
      " [347.  230.  324.5 189.5 140.  144.5 266.  176.  234.5 324.5]]\n"
     ]
    }
   ],
   "source": [
    "#write code for 3\n",
    "cf = np.array([centigrate,f])\n",
    "print(cf)"
   ]
  },
  {
   "cell_type": "markdown",
   "metadata": {
    "colab_type": "text",
    "id": "7R2JhXrrY9-2"
   },
   "source": [
    "## Python : Control statements\n",
    "if else: https://www.w3schools.com/python/python_conditions.asp\n",
    "\n",
    "while loop : https://www.w3schools.com/python/python_while_loops.asp\n",
    "\n",
    "for loop : https://www.w3schools.com/python/python_for_loops.asp"
   ]
  },
  {
   "cell_type": "markdown",
   "metadata": {
    "colab_type": "text",
    "id": "ER-fUvoFYir-"
   },
   "source": [
    "## <font color='red'>12. Determine the probability of 3 heads in 4 tosses of a coin with probability of head being $p=0.75$. Use a relative frequency interpretation of probability to yield the result."
   ]
  },
  {
   "cell_type": "code",
   "execution_count": 21,
   "metadata": {
    "colab": {},
    "colab_type": "code",
    "id": "80ti1ZQTY8UF"
   },
   "outputs": [
    {
     "name": "stdout",
     "output_type": "stream",
     "text": [
      "Prob  0.42218\n"
     ]
    }
   ],
   "source": [
    "#write code herezimport random\n",
    "import random\n",
    "sum = 0\n",
    "for i in range(100000):\n",
    "    c = 0\n",
    "    for j in range(4):\n",
    "        x = random.random()\n",
    "        if x>0.25:\n",
    "            c=c+1\n",
    "    if c==3:\n",
    "        sum+=1\n",
    "#print(sum)\n",
    "print(\"Prob \",(sum/100000))\n",
    "\n",
    "       "
   ]
  },
  {
   "cell_type": "markdown",
   "metadata": {
    "colab_type": "text",
    "id": "uqQyo3jNd3Df"
   },
   "source": [
    "## <font color='red'>13. Write a program that will add all the numbers corresponding to the even indices of an array. Use that program to find the sum of all even integers from 1 to 1000.<font>"
   ]
  },
  {
   "cell_type": "code",
   "execution_count": 24,
   "metadata": {
    "colab": {},
    "colab_type": "code",
    "id": "JzmE6DJJeYvH"
   },
   "outputs": [],
   "source": [
    "#hint: Write your program as follows: where x is the input vector, and y is the sum of all the numbers corresponding to the even indices of x. \n",
    "def addeven(x):\n",
    "#write code here\n",
    "    sum = 0\n",
    "    for i in range(len(x)):\n",
    "        if i % 2 == 0:\n",
    "            sum=sum+i\n",
    "    return sum\n"
   ]
  },
  {
   "cell_type": "code",
   "execution_count": 25,
   "metadata": {
    "colab": {},
    "colab_type": "code",
    "id": "swRSzjrUeu3D"
   },
   "outputs": [
    {
     "name": "stdout",
     "output_type": "stream",
     "text": [
      "249500\n"
     ]
    }
   ],
   "source": [
    "#\n",
    "# a= #generate array\n",
    "# addeven(a)\n",
    "a=np.array(range(1,1000))\n",
    "s = addeven(a)\n",
    "print(s)\n"
   ]
  },
  {
   "cell_type": "markdown",
   "metadata": {},
   "source": [
    "## <font color='red'>14. Write a program to generate random number.<font>\n",
    "    Hint: use Linear Congruential Generator. link: https://en.wikipedia.org/wiki/Linear_congruential_generator"
   ]
  },
  {
   "cell_type": "code",
   "execution_count": 26,
   "metadata": {},
   "outputs": [
    {
     "name": "stdout",
     "output_type": "stream",
     "text": [
      "0.7214285714285714\n",
      "0.42142857142857143\n",
      "0.22142857142857142\n",
      "0.42142857142857143\n",
      "0.22142857142857142\n",
      "0.42142857142857143\n",
      "0.22142857142857142\n",
      "0.42142857142857143\n",
      "0.22142857142857142\n",
      "0.42142857142857143\n",
      "0.22142857142857142\n",
      "0.42142857142857143\n",
      "0.22142857142857142\n",
      "0.42142857142857143\n",
      "0.22142857142857142\n",
      "0.42142857142857143\n",
      "0.22142857142857142\n",
      "0.42142857142857143\n",
      "0.22142857142857142\n",
      "0.42142857142857143\n",
      "0.22142857142857142\n",
      "0.42142857142857143\n",
      "0.22142857142857142\n",
      "0.42142857142857143\n",
      "0.22142857142857142\n",
      "0.42142857142857143\n",
      "0.22142857142857142\n",
      "0.42142857142857143\n",
      "0.22142857142857142\n",
      "0.42142857142857143\n",
      "0.22142857142857142\n",
      "0.42142857142857143\n",
      "0.22142857142857142\n",
      "0.42142857142857143\n",
      "0.22142857142857142\n",
      "0.42142857142857143\n",
      "0.22142857142857142\n",
      "0.42142857142857143\n",
      "0.22142857142857142\n",
      "0.42142857142857143\n",
      "0.22142857142857142\n",
      "0.42142857142857143\n",
      "0.22142857142857142\n"
     ]
    }
   ],
   "source": [
    "def randomnumbergenerator(x0,a,c,m,rg):\n",
    "    next = ((a*x0)+c)%m\n",
    "    randomnumber = []\n",
    "    if rg == 1:\n",
    "        print(next/m)\n",
    "    else:\n",
    "        while rg:\n",
    "            R1 = next/m\n",
    "            randomnumber.append(R1)\n",
    "            rg-=1\n",
    "            next = ((a*next)+c)%m\n",
    "    for r in randomnumber:\n",
    "        print(r)\n",
    "randomnumbergenerator(34,14,45,140,43)"
   ]
  },
  {
   "cell_type": "code",
   "execution_count": null,
   "metadata": {},
   "outputs": [],
   "source": []
  }
 ],
 "metadata": {
  "accelerator": "GPU",
  "colab": {
   "collapsed_sections": [],
   "name": "LAB 1 Introduction to python for CT314.ipynb",
   "provenance": [],
   "version": "0.3.2"
  },
  "kernelspec": {
   "display_name": "Python 3",
   "language": "python",
   "name": "python3"
  },
  "language_info": {
   "codemirror_mode": {
    "name": "ipython",
    "version": 3
   },
   "file_extension": ".py",
   "mimetype": "text/x-python",
   "name": "python",
   "nbconvert_exporter": "python",
   "pygments_lexer": "ipython3",
   "version": "3.9.1"
  }
 },
 "nbformat": 4,
 "nbformat_minor": 1
}
