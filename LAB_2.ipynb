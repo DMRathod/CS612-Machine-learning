{
 "cells": [
  {
   "cell_type": "markdown",
   "metadata": {},
   "source": [
    "# <center> IIIT Vadodara </center>\n",
    "## <center> Winter 2021-22 </center>\n",
    "## <center> CS 612, CS 652, CS/IT 308 Machine Learning </center>\n",
    "## <center> Lab#2 Bayes' classifier,k-means and k-NN</center>"
   ]
  },
  {
   "cell_type": "code",
   "execution_count": 3,
   "metadata": {},
   "outputs": [],
   "source": [
    "import numpy as np\n",
    "import matplotlib.pyplot as plt"
   ]
  },
  {
   "cell_type": "markdown",
   "metadata": {},
   "source": [
    "## 1. Bayesian decision rule under normality assumption\n",
    "Hint: use classnote for same"
   ]
  },
  {
   "cell_type": "markdown",
   "metadata": {},
   "source": [
    "### Consider the following data:\n",
    "Here, second column represent the class"
   ]
  },
  {
   "cell_type": "code",
   "execution_count": 4,
   "metadata": {},
   "outputs": [
    {
     "name": "stdout",
     "output_type": "stream",
     "text": [
      "Feature|Classe\n",
      "[[3.39 0.  ]\n",
      " [3.58 0.  ]\n",
      " [2.28 0.  ]\n",
      " [7.42 1.  ]\n",
      " [5.74 1.  ]\n",
      " [9.17 1.  ]\n",
      " [7.79 1.  ]\n",
      " [7.93 1.  ]\n",
      " [1.34 0.  ]\n",
      " [3.11 0.  ]]\n"
     ]
    }
   ],
   "source": [
    "dataset = np.array([[3.39,0],[3.58,0],[2.28,0],[7.42,1],[5.74,1],[9.17,1],[7.79,1],[7.93,1],[1.34,0],[3.11,0]])\n",
    "print('Feature|Classe')\n",
    "print(dataset)"
   ]
  },
  {
   "cell_type": "markdown",
   "metadata": {},
   "source": [
    "### Find class probability $P_1$ and $P_2$"
   ]
  },
  {
   "cell_type": "code",
   "execution_count": 5,
   "metadata": {},
   "outputs": [
    {
     "name": "stdout",
     "output_type": "stream",
     "text": [
      "probability  𝑃1 0.5\n",
      "probability  𝑃2 0.5\n"
     ]
    }
   ],
   "source": [
    "#write code here\n",
    "total_samples = len(dataset)\n",
    "Count_Zero = 0\n",
    "Count_One = 0\n",
    "\n",
    "for i in range(total_samples):\n",
    "    if dataset[i,1] == 0:\n",
    "        Count_Zero +=1 \n",
    "    else:\n",
    "        Count_One +=1\n",
    "print(\"probability  𝑃1\",Count_One/total_samples)\n",
    "print(\"probability  𝑃2\",Count_Zero/total_samples)"
   ]
  },
  {
   "cell_type": "markdown",
   "metadata": {},
   "source": [
    "### Find sample mean and sample standard deviation for each class "
   ]
  },
  {
   "cell_type": "code",
   "execution_count": 6,
   "metadata": {},
   "outputs": [
    {
     "name": "stdout",
     "output_type": "stream",
     "text": [
      "Mean of class 0 is  2.7399999999999998\n",
      "Mean of class 1 is  7.609999999999999\n",
      "Standard Deviation for Class 0 is :  0.8290476463991681\n",
      "Standard Deviation for Class 1 is : 1.1046628444914763\n"
     ]
    }
   ],
   "source": [
    "#write code here\n",
    "import math\n",
    "\n",
    "\n",
    "def Avg_for_array(x):\n",
    "    sum = 0\n",
    "    length = len(x)\n",
    "    for i in x:\n",
    "        sum = sum + i\n",
    "    print(\"Total Sum :\",sum,\"     Mean of the Class:\",(sum/length))\n",
    "    return (sum/length)\n",
    "\n",
    "def Standard_dev_array(x):\n",
    "    mean = Avg_for_array(class0)\n",
    "    temp = []\n",
    "    for each in x:\n",
    "        each -= mean\n",
    "        temp.append(each**2)\n",
    "    intermidiate = Avg_for_array(temp)\n",
    "    standard_dev = math.sqrt(intermidiate)\n",
    "    print(\"Standard Deviation for Class:\",standard_dev)\n",
    "    return standard_dev\n",
    "        \n",
    "    \n",
    "\n",
    "class0 = []\n",
    "class1 = []\n",
    "length = len(dataset)\n",
    "\n",
    "for i in range(length):\n",
    "    if dataset[i,1] == 0:\n",
    "        class0.append(dataset[i:,0][0])\n",
    "    else:\n",
    "        class1.append(dataset[i:,0][0])\n",
    "\n",
    "        \n",
    "# Avg_for_array(class0)\n",
    "# Avg_for_array(class1)\n",
    "print(\"Mean of class 0 is \",np.average(class0))\n",
    "print(\"Mean of class 1 is \",np.average(class1))\n",
    "# Standard_dev_array(class0)\n",
    "# Standard_dev_array(class1)\n",
    "# print(class0)\n",
    "        \n",
    "print(\"Standard Deviation for Class 0 is : \",np.std(class0))\n",
    "print(\"Standard Deviation for Class 1 is :\",np.std(class1))\n",
    "\n",
    "\n",
    "\n",
    "\n",
    "\n",
    "\n"
   ]
  },
  {
   "cell_type": "markdown",
   "metadata": {},
   "source": [
    "### Plot $p_1(x)$ and $p_2(x)$"
   ]
  },
  {
   "cell_type": "code",
   "execution_count": 1,
   "metadata": {},
   "outputs": [],
   "source": [
    "# Calculate the Gaussian probability distribution function for x\n",
    "import math\n",
    "def calculate_probability(x, mean, stdev):\n",
    "    #write code here\n",
    "    denom = stdev*(math.sqrt(2*math.pi))\n",
    "    p = np.array(())\n",
    "    for i in x:\n",
    "        exponent = (-0.5)*(((float(i) - float(mean))/stdev)**2.0)\n",
    "        e = math.exp(exponent)\n",
    "        value = e/denom\n",
    "        p = np.append(p,value)\n",
    "    return p"
   ]
  },
  {
   "cell_type": "code",
   "execution_count": 8,
   "metadata": {},
   "outputs": [
    {
     "data": {
      "text/plain": [
       "[<matplotlib.lines.Line2D at 0x2073d55bee0>,\n",
       " <matplotlib.lines.Line2D at 0x2073d55bf10>]"
      ]
     },
     "execution_count": 8,
     "metadata": {},
     "output_type": "execute_result"
    },
    {
     "data": {
      "image/png": "[encoded data removed]",
      "text/plain": [
       "<Figure size 432x288 with 1 Axes>"
      ]
     },
     "metadata": {
      "needs_background": "light"
     },
     "output_type": "display_data"
    }
   ],
   "source": [
    "x  = np.arange(-10,15,0.1)\n",
    "plt.plot(x,calculate_probability(x,np.average(class0),np.std(class0)),'b',x,calculate_probability(x,np.average(class1),np.std(class1)),'r')"
   ]
  },
  {
   "cell_type": "markdown",
   "metadata": {},
   "source": [
    "### Test for $x=3$  and $x=5$"
   ]
  },
  {
   "cell_type": "code",
   "execution_count": 19,
   "metadata": {},
   "outputs": [
    {
     "name": "stdout",
     "output_type": "stream",
     "text": [
      "class 0\n"
     ]
    }
   ],
   "source": [
    "#for x=3\n",
    "#write code here\n",
    "def predict(x):\n",
    "    distance_to_0 = ((x-np.average(class0))/np.std(class0))**2\n",
    "    distance_to_1 = ((x-np.average(class1))/np.std(class1))**2\n",
    "    if distance_to_0 < distance_to_1:\n",
    "        print(\"class 0\")\n",
    "    else:\n",
    "        print(\"class 1\")\n",
    "    return \n",
    "predict(3)\n",
    "\n"
   ]
  },
  {
   "cell_type": "code",
   "execution_count": 20,
   "metadata": {},
   "outputs": [
    {
     "name": "stdout",
     "output_type": "stream",
     "text": [
      "class 1\n"
     ]
    }
   ],
   "source": [
    "#for x=5\n",
    "#write code here\n",
    "predict(5)"
   ]
  },
  {
   "attachments": {
    "image.png": {
     "image/png": "[encoded data removed]"
    }
   },
   "cell_type": "markdown",
   "metadata": {},
   "source": [
    "## Homework:\n",
    "1. Try for this 2-D data using classnote\n",
    "![image.png](attachment:image.png)\n",
    "2. Implement Bayesian classifier for iris data.\n",
    "You can get help from following link. https://machinelearningmastery.com/naive-bayes-classifier-scratch-python/"
   ]
  },
  {
   "cell_type": "markdown",
   "metadata": {},
   "source": [
    "Q1. 2D dataset"
   ]
  },
  {
   "cell_type": "code",
   "execution_count": null,
   "metadata": {},
   "outputs": [
    {
     "name": "stdout",
     "output_type": "stream",
     "text": [
      "Probability of class 0  is : 0.5\n",
      "Probability of class 0  is : 0.5\n",
      "Mean Vector for class 0 [2.74 3.  ]\n",
      "Mean Vector for class 1 [7.61  2.988]\n",
      "Standard Deviation Vector for class 0  [0.82904765 0.98746139]\n",
      "Standard Deviation Vector for class 1  [1.10466284 1.29899038]\n",
      "Variance covariance Matrix for class 0 \n",
      " [[0.85915  0.019075]\n",
      " [0.019075 1.21885 ]]\n",
      "Variance covariance Matrix for class 1\n",
      "  [[ 1.52535 -0.67705]\n",
      " [-0.67705  2.10922]]\n"
     ]
    }
   ],
   "source": [
    "#write code here\n",
    "import pandas as pd\n",
    "import numpy as np\n",
    "import math\n",
    "data2D = {'x1':[3.39,3.11,1.34,3.58,2.28,7.42,5.74,9.17,7.79,7.93],\n",
    "          'x2':[2.33,1.78,3.36,4.67,2.86,4.69,3.53,2.51,3.42,0.79],\n",
    "          'class':[0,0,0,0,0,1,1,1,1,1]}\n",
    "dataset = pd.DataFrame(data2D,columns = ['x1','x2','class'])\n",
    "#function to find the mean\n",
    "def Mean_array(x):\n",
    "    total = len(x)\n",
    "    sum = 0\n",
    "    for i in x:\n",
    "        sum = sum + i\n",
    "    return (sum/total)\n",
    "\n",
    "#function to find the standard Deviation\n",
    "def Std_array(x):\n",
    "    total = len(x)\n",
    "    mean = Mean_array(x)\n",
    "    sum = 0\n",
    "    for i in x:\n",
    "        sum = sum + (i-mean)**2\n",
    "    final = math.sqrt(sum/total)\n",
    "    return final\n",
    "\n",
    "\n",
    "#function for Variance\n",
    "def Var_array(x):\n",
    "    total = len(x)\n",
    "    mean = Mean_array(x)\n",
    "    sum = 0\n",
    "    for i in x:\n",
    "        sum = sum + (i-mean)**2\n",
    "    final = (sum/total)\n",
    "    return final\n",
    "\n",
    "#function for finding the co-variance for array type\n",
    "def Co_var_array(x,y):\n",
    "    x1 = Mean_array(x)\n",
    "    y1 = Mean_array(y)\n",
    "    sum = 0\n",
    "    for i in range(len(x)):\n",
    "        sum = sum +(((x[i]-x1)*(y[i]-y1))/(len(x)-1))    \n",
    "    return sum\n",
    "\n",
    "#function for calculating the distance\n",
    "\n",
    "def predict_class(x,m0,m1):\n",
    "    inverse_m0 = np.linalg.inv(m0)\n",
    "    inverse_m1 = np.linalg.inv(m1)\n",
    "    \n",
    "    v1 = np.array(())\n",
    "    v2 = np.array(())\n",
    "    for i in range(len(x)):\n",
    "        y1 = x[i]-Mean_class0[i]\n",
    "        y2 = x[i]-Mean_class1[i]\n",
    "        v1 = np.append(v1,y1)\n",
    "        v2 = np.append(v2,y2)\n",
    "\n",
    "    v1t=v1.transpose()\n",
    "    v2t=v2.transpose()\n",
    "\n",
    "    r1=np.dot(v1t,m0)\n",
    "    r01=np.dot(r1,v1)\n",
    "    \n",
    "    r2=np.dot(v2t,m1)\n",
    "    r02=np.dot(r2,v2)\n",
    "    \n",
    "    if r01<=r02:\n",
    "        print(\"Class 0\")\n",
    "    else:\n",
    "        print(\"Class 1\")\n",
    "\n",
    "#\"Calculate the class probability P1 and P2\"\n",
    "\n",
    "total_sample = len(dataset)\n",
    "total_class0 = 0\n",
    "total_class1 = 0\n",
    "for i in range(total_sample):\n",
    "    if dataset['class'][i] == 0:\n",
    "        total_class0 += 1\n",
    "    else:\n",
    "        total_class1 += 1\n",
    "        \n",
    "\n",
    "print(\"Probability of class 0  is :\",(total_class0/total_sample))\n",
    "print(\"Probability of class 0  is :\",(total_class1/total_sample))\n",
    "\n",
    "\n",
    "\n",
    "#calculate the mean of the feature\n",
    "featureX1_class0 = []\n",
    "featureX2_class0 = []\n",
    "featureX1_class1 = []\n",
    "featureX2_class1 = []\n",
    "\n",
    "for i in range(total_sample):\n",
    "    if dataset['class'][i] == 0:\n",
    "        featureX1_class0.append(dataset['x1'][i])\n",
    "        featureX2_class0.append(dataset['x2'][i])\n",
    "    else:\n",
    "        featureX1_class1.append(dataset['x1'][i])\n",
    "        featureX2_class1.append(dataset['x2'][i])\n",
    "\n",
    "MeanX1_class0 = Mean_array(featureX1_class0)\n",
    "MeanX2_class0 = Mean_array(featureX2_class0)\n",
    "MeanX1_class1 = Mean_array(featureX1_class1)\n",
    "MeanX2_class1 = Mean_array(featureX2_class1)\n",
    "\n",
    "Mean_class0 = np.array([MeanX1_class0,MeanX2_class0])\n",
    "Mean_class1 = np.array([MeanX1_class1,MeanX2_class1])\n",
    "\n",
    "print(\"Mean Vector for class 0\",Mean_class0)\n",
    "print(\"Mean Vector for class 1\",Mean_class1)\n",
    "\n",
    "\n",
    "# std vector for classes\n",
    "Std_class0 = np.array([Std_array(featureX1_class0),Std_array(featureX2_class0)])\n",
    "Std_class1 = np.array([Std_array(featureX1_class1),Std_array(featureX2_class1)])\n",
    "\n",
    "print(\"Standard Deviation Vector for class 0 \",Std_class0)\n",
    "print(\"Standard Deviation Vector for class 1 \",Std_class1)\n",
    "\n",
    "\n",
    "\n",
    "#variance - Covariance matrix\n",
    "\n",
    "var_Co_var_matrix_class0 = np.array([[Co_var_array(featureX1_class0,featureX1_class0),Co_var_array(featureX1_class0,featureX2_class0)],\n",
    "                            [Co_var_array(featureX2_class0,featureX1_class0),Co_var_array(featureX2_class0,featureX2_class0)]])   \n",
    "var_Co_var_matrix_class1 = np.array([[Co_var_array(featureX1_class1,featureX1_class1),Co_var_array(featureX1_class1,featureX2_class1)],\n",
    "                            [Co_var_array(featureX2_class1,featureX1_class1),Co_var_array(featureX2_class1,featureX2_class1)]])   \n",
    "\n",
    "\n",
    "print(\"Variance covariance Matrix for class 0 \\n\",var_Co_var_matrix_class0)\n",
    "print(\"Variance covariance Matrix for class 1\\n \",var_Co_var_matrix_class1)\n",
    "\n",
    "\n",
    "h=int(input(\"How many test data you have?\\n\"))\n",
    "for i in range(h):\n",
    "    x=np.array(())\n",
    "    d1, d2 = [int(x) for x in input(\"Enter x1 and x2: \\n\").split()]\n",
    "    x =np.append(x,[d1,d2])\n",
    "    print(\"X1 \",x[0],\"X2 \",x[1])\n",
    "    predict_class(x,var_Co_var_matrix_class0,var_Co_var_matrix_class1)\n",
    "\n"
   ]
  },
  {
   "cell_type": "markdown",
   "metadata": {},
   "source": [
    "Q2.iris Dataset"
   ]
  },
  {
   "cell_type": "markdown",
   "metadata": {},
   "source": [
    "we can do same as we did for 2D data."
   ]
  },
  {
   "cell_type": "code",
   "execution_count": 21,
   "metadata": {},
   "outputs": [
    {
     "name": "stdout",
     "output_type": "stream",
     "text": [
      "Mean Vector of class 0 : [5.006 3.418 1.464 0.244] \n",
      "Mean Vector of class 1 : [5.936 2.77  4.26  1.326] \n",
      "Mean Vector of class 2 : [6.588 2.974 5.552 2.026]\n",
      "Standard Deviation Vector for class 0  [0.34894699 0.37719491 0.17176728 0.10613199]\n",
      "Standard Deviation Vector for class 1  [0.51098337 0.31064449 0.46518813 0.19576517]\n",
      "Standard Deviation Vector for class 2  [0.62948868 0.31925538 0.54634787 0.27188968]\n",
      "Variance covariance Matrix for class 0 \n",
      " [[0.12424898 0.10029796 0.01613878 0.01054694]\n",
      " [0.10029796 0.14517959 0.01168163 0.01143673]\n",
      " [0.01613878 0.01168163 0.03010612 0.00569796]\n",
      " [0.01054694 0.01143673 0.00569796 0.01149388]]\n",
      "Variance covariance Matrix for class 1 \n",
      " [[0.26643265 0.08518367 0.18289796 0.05577959]\n",
      " [0.08518367 0.09846939 0.08265306 0.04120408]\n",
      " [0.18289796 0.08265306 0.22081633 0.07310204]\n",
      " [0.05577959 0.04120408 0.07310204 0.03910612]]\n",
      "Variance covariance Matrix for class 2 \n",
      " [[0.40434286 0.09376327 0.3032898  0.04909388]\n",
      " [0.09376327 0.10400408 0.07137959 0.04762857]\n",
      " [0.3032898  0.07137959 0.30458776 0.04882449]\n",
      " [0.04909388 0.04762857 0.04882449 0.07543265]]\n",
      "For values [5.7, 2.9, 4.2, 1.3] class is :\n",
      "Class 1\n"
     ]
    }
   ],
   "source": [
    "import pandas as pd\n",
    "import numpy as np\n",
    "import matplotlib.pyplot as plt\n",
    "import math\n",
    "\n",
    "\n",
    "iris_dataset = pd.read_csv(\"Iris.csv\") \n",
    "# print(iris_dataset.head(10))\n",
    "\n",
    "#function to find the mean\n",
    "def Mean_array(x):\n",
    "    total = len(x)\n",
    "    sum = 0\n",
    "    for i in x:\n",
    "        sum = sum + i\n",
    "    return (sum/total)\n",
    "\n",
    "#function to find the standard Deviation\n",
    "def Std_array(x):\n",
    "    total = len(x)\n",
    "    mean = Mean_array(x)\n",
    "    sum = 0\n",
    "    for i in x:\n",
    "        sum = sum + (i-mean)**2\n",
    "    final = math.sqrt(sum/total)\n",
    "    return final\n",
    "\n",
    "\n",
    "#function for Variance\n",
    "def Var_array(x):\n",
    "    total = len(x)\n",
    "    mean = Mean_array(x)\n",
    "    sum = 0\n",
    "    for i in x:\n",
    "        sum = sum + (i-mean)**2\n",
    "    final = (sum/total)\n",
    "    return final\n",
    "\n",
    "#function for finding the co-variance for array type\n",
    "def Co_var_array(x,y):\n",
    "    x1 = Mean_array(x)\n",
    "    y1 = Mean_array(y)\n",
    "    sum = 0\n",
    "    for i in range(len(x)):\n",
    "        sum = sum +(((x[i]-x1)*(y[i]-y1))/(len(x)-1))    \n",
    "    return sum\n",
    "\n",
    "#function for calculating the distance\n",
    "\n",
    "def predict_class(x,m0,m1,m2):\n",
    "    inverse_m0 = np.linalg.inv(m0)\n",
    "    inverse_m1 = np.linalg.inv(m1)\n",
    "    inverse_m2 = np.linalg.inv(m2)\n",
    "    \n",
    "    v1 = np.array(())\n",
    "    v2 = np.array(())\n",
    "    v3 = np.array(())\n",
    "    for i in range(len(x)):\n",
    "        y1 = x[i]-Mean_Vector_class0[i]\n",
    "        y2 = x[i]-Mean_Vector_class1[i]\n",
    "        y3 = x[i]-Mean_Vector_class2[i]\n",
    "        v1 = np.append(v1,y1)\n",
    "        v2 = np.append(v2,y2)\n",
    "        v3 = np.append(v3,y3)\n",
    "\n",
    "    v1t=v1.transpose()\n",
    "    v2t=v2.transpose()\n",
    "    v3t=v3.transpose()\n",
    "\n",
    "    r1=np.dot(v1t,m0)\n",
    "    r01=np.dot(r1,v1)\n",
    "    \n",
    "    r2=np.dot(v2t,m1)\n",
    "    r02=np.dot(r2,v2)\n",
    "    \n",
    "    r3=np.dot(v3t,m2)\n",
    "    r03=np.dot(r3,v3)\n",
    "    \n",
    "    if (r01 < r02) and (r01 < r03) :\n",
    "        print(\"Class 0\")\n",
    "    elif (r02 < r01) and (r02 < r03):\n",
    "            print(\"Class 1\")\n",
    "    else:\n",
    "        print(\"class 2\")\n",
    "\n",
    "\n",
    "#\"Calculate the class probability P1 , P2 and P3\"\n",
    "\n",
    "# lets consider \n",
    "# 'Iris-setosa'     => class0 \n",
    "# 'Iris-versicolor' => class1  \n",
    "# 'Iris-virginica'  => class2\n",
    "\n",
    "\n",
    "total_sample = len(iris_dataset)\n",
    "# print(\"Total Data rows \",total_sample)\n",
    "total_class0 = 0\n",
    "total_class1 = 0\n",
    "total_class2 = 0\n",
    "for i in range(total_sample):\n",
    "    if iris_dataset['Species'][i] == 'Iris-setosa':\n",
    "        total_class0 += 1\n",
    "    if iris_dataset['Species'][i] == 'Iris-versicolor':\n",
    "        total_class1 +=1\n",
    "    if iris_dataset['Species'][i] == 'Iris-virginica':\n",
    "        total_class2 +=1\n",
    "        \n",
    "# print(\"Probability of class 0  is :\",(total_class0/total_sample))\n",
    "# print(\"Probability of class 1  is :\",(total_class1/total_sample))\n",
    "# print(\"Probability of class 2  is :\",(total_class2/total_sample))       \n",
    "\n",
    "\n",
    "\n",
    "#calculate the mean of the feature\n",
    "SepalLengthCm_class0 = []\n",
    "SepalLengthCm_class1  = []\n",
    "SepalLengthCm_class2  = []\n",
    "\n",
    "SepalWidthCm_class0 = []\n",
    "SepalWidthCm_class1 = []\n",
    "SepalWidthCm_class2 = []\n",
    "\n",
    "PetalLengthCm_class0 = []\n",
    "PetalLengthCm_class1 = []\n",
    "PetalLengthCm_class2 = []\n",
    "\n",
    "PetalWidthCm_class0 = []\n",
    "PetalWidthCm_class1 = []\n",
    "PetalWidthCm_class2 = []\n",
    "\n",
    "\n",
    "for i in range(total_sample):\n",
    "    if iris_dataset['Species'][i] == 'Iris-setosa':\n",
    "        SepalLengthCm_class0.append(iris_dataset['SepalLengthCm'][i]);\n",
    "        SepalWidthCm_class0.append(iris_dataset['SepalWidthCm'][i]);\n",
    "        PetalLengthCm_class0.append(iris_dataset['PetalLengthCm'][i]);\n",
    "        PetalWidthCm_class0.append(iris_dataset['PetalWidthCm'][i]);\n",
    "        \n",
    "    if iris_dataset['Species'][i] == 'Iris-versicolor':\n",
    "        SepalLengthCm_class1.append(iris_dataset['SepalLengthCm'][i]);\n",
    "        SepalWidthCm_class1.append(iris_dataset['SepalWidthCm'][i]);\n",
    "        PetalLengthCm_class1.append(iris_dataset['PetalLengthCm'][i]);\n",
    "        PetalWidthCm_class1.append(iris_dataset['PetalWidthCm'][i]);\n",
    "        \n",
    "    if iris_dataset['Species'][i] == 'Iris-virginica':\n",
    "        SepalLengthCm_class2.append(iris_dataset['SepalLengthCm'][i]);\n",
    "        SepalWidthCm_class2.append(iris_dataset['SepalWidthCm'][i]);\n",
    "        PetalLengthCm_class2.append(iris_dataset['PetalLengthCm'][i]);\n",
    "        PetalWidthCm_class2.append(iris_dataset['PetalWidthCm'][i]);\n",
    "        \n",
    "Mean_Vector_class0 = np.array([Mean_array(SepalLengthCm_class0),Mean_array(SepalWidthCm_class0),Mean_array(PetalLengthCm_class0),Mean_array(PetalWidthCm_class0)])\n",
    "Mean_Vector_class1 = np.array([Mean_array(SepalLengthCm_class1),Mean_array(SepalWidthCm_class1),Mean_array(PetalLengthCm_class1),Mean_array(PetalWidthCm_class1)])\n",
    "Mean_Vector_class2 = np.array([Mean_array(SepalLengthCm_class2),Mean_array(SepalWidthCm_class2),Mean_array(PetalLengthCm_class2),Mean_array(PetalWidthCm_class2)])\n",
    "\n",
    "print(\"Mean Vector of class 0 :\",Mean_Vector_class0,\"\\nMean Vector of class 1 :\",Mean_Vector_class1,\"\\nMean Vector of class 2 :\",Mean_Vector_class2)\n",
    "\n",
    "\n",
    "# std vector for classes\n",
    "Std_Vector_class0 = np.array([Std_array(SepalLengthCm_class0),Std_array(SepalWidthCm_class0),Std_array(PetalLengthCm_class0),Std_array(PetalWidthCm_class0)])\n",
    "Std_Vector_class1 = np.array([Std_array(SepalLengthCm_class1),Std_array(SepalWidthCm_class1),Std_array(PetalLengthCm_class1),Std_array(PetalWidthCm_class1)])\n",
    "Std_Vector_class2 = np.array([Std_array(SepalLengthCm_class2),Std_array(SepalWidthCm_class2),Std_array(PetalLengthCm_class2),Std_array(PetalWidthCm_class2)])\n",
    "\n",
    "\n",
    "print(\"Standard Deviation Vector for class 0 \",Std_Vector_class0)\n",
    "print(\"Standard Deviation Vector for class 1 \",Std_Vector_class1)\n",
    "print(\"Standard Deviation Vector for class 2 \",Std_Vector_class2)\n",
    "\n",
    "\n",
    "#variance - Covariance matrix\n",
    "var_Co_var_matrix_class0 = np.array([[Co_var_array(SepalLengthCm_class0,SepalLengthCm_class0),\n",
    "                                      Co_var_array(SepalLengthCm_class0,SepalWidthCm_class0),\n",
    "                                      Co_var_array(SepalLengthCm_class0,PetalLengthCm_class0),\n",
    "                                      Co_var_array(SepalLengthCm_class0,PetalWidthCm_class0)],\n",
    "                                     [Co_var_array(SepalWidthCm_class0,SepalLengthCm_class0),\n",
    "                                      Co_var_array(SepalWidthCm_class0,SepalWidthCm_class0),\n",
    "                                      Co_var_array(SepalWidthCm_class0,PetalLengthCm_class0),\n",
    "                                      Co_var_array(SepalWidthCm_class0,PetalWidthCm_class0)],\n",
    "                                     [Co_var_array(PetalLengthCm_class0,SepalLengthCm_class0),\n",
    "                                      Co_var_array(PetalLengthCm_class0,SepalWidthCm_class0),\n",
    "                                      Co_var_array(PetalLengthCm_class0,PetalLengthCm_class0),\n",
    "                                      Co_var_array(PetalLengthCm_class0,PetalWidthCm_class0)],\n",
    "                                     [Co_var_array(PetalWidthCm_class0,SepalLengthCm_class0),\n",
    "                                      Co_var_array(PetalWidthCm_class0,SepalWidthCm_class0),\n",
    "                                      Co_var_array(PetalWidthCm_class0,PetalLengthCm_class0),\n",
    "                                      Co_var_array(PetalWidthCm_class0,PetalWidthCm_class0)]])\n",
    "\n",
    "var_Co_var_matrix_class1 = np.array([[Co_var_array(SepalLengthCm_class1,SepalLengthCm_class1),\n",
    "                                      Co_var_array(SepalLengthCm_class1,SepalWidthCm_class1),\n",
    "                                      Co_var_array(SepalLengthCm_class1,PetalLengthCm_class1),\n",
    "                                      Co_var_array(SepalLengthCm_class1,PetalWidthCm_class1)],\n",
    "                                     [Co_var_array(SepalWidthCm_class1,SepalLengthCm_class1),\n",
    "                                      Co_var_array(SepalWidthCm_class1,SepalWidthCm_class1),\n",
    "                                      Co_var_array(SepalWidthCm_class1,PetalLengthCm_class1),\n",
    "                                      Co_var_array(SepalWidthCm_class1,PetalWidthCm_class1)],\n",
    "                                     [Co_var_array(PetalLengthCm_class1,SepalLengthCm_class1),\n",
    "                                      Co_var_array(PetalLengthCm_class1,SepalWidthCm_class1),\n",
    "                                      Co_var_array(PetalLengthCm_class1,PetalLengthCm_class1),\n",
    "                                      Co_var_array(PetalLengthCm_class1,PetalWidthCm_class1)],\n",
    "                                     [Co_var_array(PetalWidthCm_class1,SepalLengthCm_class1),\n",
    "                                      Co_var_array(PetalWidthCm_class1,SepalWidthCm_class1),\n",
    "                                      Co_var_array(PetalWidthCm_class1,PetalLengthCm_class1),\n",
    "                                      Co_var_array(PetalWidthCm_class1,PetalWidthCm_class1)]])\n",
    "\n",
    "var_Co_var_matrix_class2 = np.array([[Co_var_array(SepalLengthCm_class2,SepalLengthCm_class2),\n",
    "                                      Co_var_array(SepalLengthCm_class2,SepalWidthCm_class2),\n",
    "                                      Co_var_array(SepalLengthCm_class2,PetalLengthCm_class2),\n",
    "                                      Co_var_array(SepalLengthCm_class2,PetalWidthCm_class2)],\n",
    "                                     [Co_var_array(SepalWidthCm_class2,SepalLengthCm_class2),\n",
    "                                      Co_var_array(SepalWidthCm_class2,SepalWidthCm_class2),\n",
    "                                      Co_var_array(SepalWidthCm_class2,PetalLengthCm_class2),\n",
    "                                      Co_var_array(SepalWidthCm_class2,PetalWidthCm_class2)],\n",
    "                                     [Co_var_array(PetalLengthCm_class2,SepalLengthCm_class2),\n",
    "                                      Co_var_array(PetalLengthCm_class2,SepalWidthCm_class2),\n",
    "                                      Co_var_array(PetalLengthCm_class2,PetalLengthCm_class2),\n",
    "                                      Co_var_array(PetalLengthCm_class2,PetalWidthCm_class2)],\n",
    "                                     [Co_var_array(PetalWidthCm_class2,SepalLengthCm_class2),\n",
    "                                      Co_var_array(PetalWidthCm_class2,SepalWidthCm_class2),\n",
    "                                      Co_var_array(PetalWidthCm_class2,PetalLengthCm_class2),\n",
    "                                      Co_var_array(PetalWidthCm_class2,PetalWidthCm_class2)]])\n",
    "\n",
    "print(\"Variance covariance Matrix for class 0 \\n\",var_Co_var_matrix_class0)\n",
    "print(\"Variance covariance Matrix for class 1 \\n\",var_Co_var_matrix_class1)\n",
    "print(\"Variance covariance Matrix for class 2 \\n\",var_Co_var_matrix_class2)\n",
    "\n",
    "\n",
    "\n",
    "\n",
    "\n",
    "x = [5.7, 2.9, 4.2, 1.3]  \n",
    "print(\"For values\",x,\"class is :\" )\n",
    "predict_class(x,var_Co_var_matrix_class0,var_Co_var_matrix_class1,var_Co_var_matrix_class2)\n",
    "\n",
    "\n",
    "\n",
    "\n",
    "\n",
    "\n",
    "\n",
    "\n",
    "    "
   ]
  },
  {
   "attachments": {
    "image.png": {
     "image/png": "[encoded data removed]"
    }
   },
   "cell_type": "markdown",
   "metadata": {},
   "source": [
    "## 2. K-Nearest neighbour (KNN)\n",
    "\n",
    "Consider the following observations:\n",
    "![image.png](attachment:image.png)\n",
    "\n",
    "Use KNN technique to classify the test data using K=3.\n",
    "\n",
    "Hint: \n",
    "<br>\n",
    "1) Calculate the Euclidean distance between the new point and the existing points.\n",
    "<br>\n",
    "2) Sort out the points distance-wise.\n",
    "<br>\n",
    "3) Now select the k-neighbours. "
   ]
  },
  {
   "cell_type": "code",
   "execution_count": 24,
   "metadata": {
    "scrolled": true
   },
   "outputs": [
    {
     "name": "stdout",
     "output_type": "stream",
     "text": [
      "Feature1|Feature2|Class\n",
      "[[-2. -1.  1.]\n",
      " [-2.  1.  2.]\n",
      " [-2.  2.  2.]\n",
      " [-1. -1.  1.]\n",
      " [ 1. -1.  1.]\n",
      " [ 1.  1.  3.]\n",
      " [ 1.  2.  3.]\n",
      " [ 2.  1.  3.]]\n"
     ]
    }
   ],
   "source": [
    "data = np.float32([[-2,-1,1],[-2,1,2],[-2,2,2],[-1,-1,1],[1,-1,1],[1,1,3],[1,2,3],[2,1,3]])\n",
    "print('Feature1|Feature2|Class')\n",
    "print(data)"
   ]
  },
  {
   "cell_type": "code",
   "execution_count": 198,
   "metadata": {},
   "outputs": [],
   "source": [
    "#calculate the distance\n",
    "def calculate_distance(x,y):\n",
    "    return math.sqrt(((x[1]-y[1])**2 + (x[0]-y[0])**2))\n",
    "\n",
    "\n",
    "#function to predict the class\n",
    "def predict_knn_class(new_point):\n",
    "    \n",
    "    output = []\n",
    "    for i in range(len(data)):\n",
    "        output.append([calculate_distance(new_point,data[i]),data[i][0],data[i][1],data[i][2]])\n",
    "        output.sort()\n",
    "        \n",
    "        \n",
    "    print(\"euclidean distance|Feature1|Feature2|Class\")\n",
    "    for i in range(len(output)):\n",
    "        print(\"\\n\",output[i])\n",
    "        \n",
    "        \n",
    "    class1_count = 0\n",
    "    class2_count = 0\n",
    "    class3_count = 0\n",
    "    for i in range(3):\n",
    "        if output[i][3]==1:\n",
    "            class1_count +=1\n",
    "        elif output[i][3]==2:\n",
    "            class2_count +=1\n",
    "        else:\n",
    "            class3_count +=1\n",
    "    if (class1_count>=class2_count) and (class1_count>=class3_count):\n",
    "        print(\"Test data is in Class 1\")\n",
    "    elif (class2_count>=class3_count):\n",
    "        print(\"Test data is in Class 2\")\n",
    "    else:\n",
    "        print(\"Test data is in Class 3\")\n",
    "\n",
    "def draw_graph(new_point):    \n",
    "    class1_F1 = [1,-1,-2]\n",
    "    class1_F2 = [-1,-1,-1]\n",
    "\n",
    "    class2_F1 = [-2,-2]\n",
    "    class2_F2 = [1,2]\n",
    "\n",
    "    class3_F1 = [1,1,2]\n",
    "    class3_F2 = [1,2,1]\n",
    "\n",
    "    plt.scatter(class1_F1,class1_F2,color='blue',s=150)\n",
    "    plt.scatter(class2_F1,class2_F2,color='orange',s=160)\n",
    "    plt.scatter(class3_F1,class3_F2,color='green',s=160)\n",
    "    plt.scatter(new_point[0],new_point[1],color = 'red')"
   ]
  },
  {
   "cell_type": "code",
   "execution_count": 199,
   "metadata": {},
   "outputs": [
    {
     "name": "stdout",
     "output_type": "stream",
     "text": [
      "euclidean distance|Feature1|Feature2|Class\n",
      "\n",
      " [1.0, -2.0, 1.0, 2.0]\n",
      "\n",
      " [1.4142135623730951, -2.0, 2.0, 2.0]\n",
      "\n",
      " [2.0, -1.0, -1.0, 1.0]\n",
      "\n",
      " [2.0, 1.0, 1.0, 3.0]\n",
      "\n",
      " [2.23606797749979, -2.0, -1.0, 1.0]\n",
      "\n",
      " [2.23606797749979, 1.0, 2.0, 3.0]\n",
      "\n",
      " [2.8284271247461903, 1.0, -1.0, 1.0]\n",
      "\n",
      " [3.0, 2.0, 1.0, 3.0]\n",
      "Test data is in Class 2\n"
     ]
    },
    {
     "data": {
      "image/png": "[encoded data removed]",
      "text/plain": [
       "<Figure size 432x288 with 1 Axes>"
      ]
     },
     "metadata": {
      "needs_background": "light"
     },
     "output_type": "display_data"
    }
   ],
   "source": [
    "#enter your point here\n",
    "point = [-1,1]\n",
    "predict_knn_class(point)\n",
    "draw_graph(point)"
   ]
  },
  {
   "cell_type": "code",
   "execution_count": 200,
   "metadata": {},
   "outputs": [
    {
     "name": "stdout",
     "output_type": "stream",
     "text": [
      "euclidean distance|Feature1|Feature2|Class\n",
      "\n",
      " [0.0, 1.0, -1.0, 1.0]\n",
      "\n",
      " [2.0, -1.0, -1.0, 1.0]\n",
      "\n",
      " [2.0, 1.0, 1.0, 3.0]\n",
      "\n",
      " [2.23606797749979, 2.0, 1.0, 3.0]\n",
      "\n",
      " [3.0, -2.0, -1.0, 1.0]\n",
      "\n",
      " [3.0, 1.0, 2.0, 3.0]\n",
      "\n",
      " [3.605551275463989, -2.0, 1.0, 2.0]\n",
      "\n",
      " [4.242640687119285, -2.0, 2.0, 2.0]\n",
      "Test data is in Class 1\n"
     ]
    },
    {
     "data": {
      "image/png": "[encoded data removed]",
      "text/plain": [
       "<Figure size 432x288 with 1 Axes>"
      ]
     },
     "metadata": {
      "needs_background": "light"
     },
     "output_type": "display_data"
    }
   ],
   "source": [
    "point = [1,-1]\n",
    "predict_knn_class(point)\n",
    "draw_graph(point)"
   ]
  },
  {
   "cell_type": "code",
   "execution_count": 201,
   "metadata": {},
   "outputs": [
    {
     "name": "stdout",
     "output_type": "stream",
     "text": [
      "euclidean distance|Feature1|Feature2|Class\n",
      "\n",
      " [2.8284271247461903, 1.0, 2.0, 3.0]\n",
      "\n",
      " [3.1622776601683795, 2.0, 1.0, 3.0]\n",
      "\n",
      " [3.605551275463989, 1.0, 1.0, 3.0]\n",
      "\n",
      " [5.385164807134504, -2.0, 2.0, 2.0]\n",
      "\n",
      " [5.385164807134504, 1.0, -1.0, 1.0]\n",
      "\n",
      " [5.830951894845301, -2.0, 1.0, 2.0]\n",
      "\n",
      " [6.4031242374328485, -1.0, -1.0, 1.0]\n",
      "\n",
      " [7.0710678118654755, -2.0, -1.0, 1.0]\n",
      "Test data is in Class 3\n"
     ]
    },
    {
     "data": {
      "image/png": "[encoded data removed]",
      "text/plain": [
       "<Figure size 432x288 with 1 Axes>"
      ]
     },
     "metadata": {
      "needs_background": "light"
     },
     "output_type": "display_data"
    }
   ],
   "source": [
    "point = [3,4]\n",
    "predict_knn_class(point)\n",
    "draw_graph(point)"
   ]
  },
  {
   "cell_type": "code",
   "execution_count": 202,
   "metadata": {},
   "outputs": [
    {
     "name": "stdout",
     "output_type": "stream",
     "text": [
      "euclidean distance|Feature1|Feature2|Class\n",
      "\n",
      " [1.118033988749895, 1.0, 1.0, 3.0]\n",
      "\n",
      " [1.8027756377319946, -1.0, -1.0, 1.0]\n",
      "\n",
      " [1.8027756377319946, 1.0, -1.0, 1.0]\n",
      "\n",
      " [1.8027756377319946, 1.0, 2.0, 3.0]\n",
      "\n",
      " [2.0615528128088303, -2.0, 1.0, 2.0]\n",
      "\n",
      " [2.0615528128088303, 2.0, 1.0, 3.0]\n",
      "\n",
      " [2.5, -2.0, -1.0, 1.0]\n",
      "\n",
      " [2.5, -2.0, 2.0, 2.0]\n",
      "Test data is in Class 1\n"
     ]
    },
    {
     "data": {
      "image/png": "[encoded data removed]",
      "text/plain": [
       "<Figure size 432x288 with 1 Axes>"
      ]
     },
     "metadata": {
      "needs_background": "light"
     },
     "output_type": "display_data"
    }
   ],
   "source": [
    "point = [0,.5]\n",
    "predict_knn_class(point)\n",
    "draw_graph(point)"
   ]
  },
  {
   "cell_type": "code",
   "execution_count": 11,
   "metadata": {},
   "outputs": [
    {
     "data": {
      "image/png": "[encoded data removed]",
      "text/plain": [
       "<Figure size 432x288 with 1 Axes>"
      ]
     },
     "metadata": {
      "needs_background": "light"
     },
     "output_type": "display_data"
    },
    {
     "name": "stdout",
     "output_type": "stream",
     "text": [
      "Feature1|Feature2|Class|diatance with test data\n",
      "[[ 1.         -1.          1.          0.        ]\n",
      " [-1.         -1.          1.          2.        ]\n",
      " [ 1.          1.          3.          2.        ]\n",
      " [ 2.          1.          3.          2.23606798]\n",
      " [-2.         -1.          1.          3.        ]\n",
      " [ 1.          2.          3.          3.        ]\n",
      " [-2.          1.          2.          3.60555128]\n",
      " [-2.          2.          2.          4.24264069]]\n",
      "test data = [ 1 -1]\n",
      "class= 1.0\n"
     ]
    }
   ],
   "source": []
  },
  {
   "cell_type": "markdown",
   "metadata": {},
   "source": [
    "## 3. K-Means\n",
    "\n",
    "Ignore the class information of the training data given in problem 2 and use K-means algorithm to classify the same. Assume the initial starting classes as:  \n",
    "<br>\n",
    "C1={observations 1,2}\n",
    "<br>\n",
    "C2={observations 3,4,5}\n",
    "<br>\n",
    "C3={observations 6,7,8}\n",
    "<br>\n",
    "\n",
    "Now using the result find the class that would be assigned to the test data.\n",
    "\n",
    "<br>\n",
    "Hint: \n",
    "\n",
    "1) Find the centroid (mean) of each cluster based on the initial classes assignment given.\n",
    "\n",
    "2) Find out the Euclidean distance between each point and each cluster centroid. \n",
    "\n",
    "3) Assign all the points to the closest cluster centroid.\n",
    "\n",
    "4) Recompute centroids of newly formed clusters.\n",
    "\n",
    "5) Stop if the new centroids are same as old centroids else repeat step 2 to 4. "
   ]
  },
  {
   "cell_type": "code",
   "execution_count": 218,
   "metadata": {},
   "outputs": [
    {
     "name": "stdout",
     "output_type": "stream",
     "text": [
      "intial centroids = \n",
      " [[-2.0, 0.0], [-0.6666666666666666, 0.0], [1.3333333333333333, 1.3333333333333333]]\n"
     ]
    },
    {
     "data": {
      "image/png": "[encoded data removed]",
      "text/plain": [
       "<Figure size 432x288 with 1 Axes>"
      ]
     },
     "metadata": {
      "needs_background": "light"
     },
     "output_type": "display_data"
    }
   ],
   "source": [
    "X = data[:,:-1]\n",
    "m,n = X.shape\n",
    "\n",
    "#calculate the mean\n",
    "def mean_element_wise(x):\n",
    "    length = len(x)\n",
    "    sum1 = 0\n",
    "    sum2 = 0\n",
    "    vector = [0,0]\n",
    "    for i in range(length):\n",
    "        sum1 = sum1 + x[i][0]\n",
    "        sum2 = sum2 + x[i][1]\n",
    "    vector[0] = sum1/length\n",
    "    vector[1] = sum2/length\n",
    "    return vector        \n",
    "\n",
    "def draw_graph(centroid):    \n",
    "    class1_F1 = [1,-1,-2]\n",
    "    class1_F2 = [-1,-1,-1]\n",
    "\n",
    "    class2_F1 = [-2,-2]\n",
    "    class2_F2 = [1,2]\n",
    "\n",
    "    class3_F1 = [1,1,2]\n",
    "    class3_F2 = [1,2,1]\n",
    "    \n",
    "    x1 = []\n",
    "    y1 = []\n",
    "    for i in range(3):\n",
    "        x1.append(centroid[i][0])\n",
    "        y1.append(centroid[i][1])\n",
    "\n",
    "    \n",
    "    plt.scatter(class1_F1,class1_F2,color='blue',s=150)\n",
    "    plt.scatter(class2_F1,class2_F2,color='orange',s=160)\n",
    "    plt.scatter(class3_F1,class3_F2,color='green',s=160)\n",
    "    plt.scatter(x1,y1,color='red',s=160)\n",
    "    \n",
    "    \n",
    "A1 = np.array([X[0],X[1]])\n",
    "A2 = np.array([X[2],X[3],X[4]])\n",
    "A3 = np.array([X[5],X[6],X[7]])\n",
    "\n",
    "initial_centroid = [mean_element_wise(A1),mean_element_wise(A2),mean_element_wise(A3)]\n",
    "print('intial centroids = \\n',initial_centroid)\n",
    "\n",
    "\n",
    "draw_graph(initial_centroid)"
   ]
  },
  {
   "cell_type": "code",
   "execution_count": 119,
   "metadata": {},
   "outputs": [
    {
     "name": "stdout",
     "output_type": "stream",
     "text": [
      "[[1.         1.66666667 4.06885187]\n",
      " [1.         1.66666667 3.34995854]\n",
      " [2.         2.40370085 3.39934634]\n",
      " [1.41421356 1.05409255 3.29983165]\n",
      " [3.16227766 1.94365063 2.3570226 ]\n",
      " [3.16227766 1.94365063 0.47140452]\n",
      " [3.60555128 2.60341656 0.74535599]\n",
      " [4.12310563 2.84800125 0.74535599]]\n"
     ]
    }
   ],
   "source": [
    "#write code for kmeans\n",
    "#\n",
    "import math\n",
    "def calculate_distance(x,y):\n",
    "    return math.sqrt(((x[1]-y[1])**2 + (x[0]-y[0])**2))\n",
    "\n",
    "def find_Distance(y1,y2,y3):    \n",
    "    distance_array = np.array([[calculate_distance(X[0],y1),calculate_distance(X[0],y2),calculate_distance(X[0],y3)],\n",
    "                          [calculate_distance(X[1],y1),calculate_distance(X[1],y2),calculate_distance(X[1],y3)],\n",
    "                          [calculate_distance(X[2],y1),calculate_distance(X[2],y2),calculate_distance(X[2],y3)],\n",
    "                          [calculate_distance(X[3],y1),calculate_distance(X[3],y2),calculate_distance(X[3],y3)],\n",
    "                          [calculate_distance(X[4],y1),calculate_distance(X[4],y2),calculate_distance(X[4],y3)],\n",
    "                          [calculate_distance(X[5],y1),calculate_distance(X[5],y2),calculate_distance(X[5],y3)],\n",
    "                          [calculate_distance(X[6],y1),calculate_distance(X[6],y2),calculate_distance(X[6],y3)],\n",
    "                          [calculate_distance(X[7],y1),calculate_distance(X[7],y2),calculate_distance(X[7],y3)]])\n",
    "    print(distance_array)\n",
    "    \n",
    "            \n",
    "y1 = mean_element_wise(A1);\n",
    "y2 = mean_element_wise(A2);\n",
    "y3 = mean_element_wise(A3);\n",
    "\n",
    "find_Distance(y1,y2,y3)\n",
    "\n",
    "\n"
   ]
  },
  {
   "cell_type": "code",
   "execution_count": 120,
   "metadata": {},
   "outputs": [
    {
     "name": "stdout",
     "output_type": "stream",
     "text": [
      "X 0  is in C1 \n",
      "X 1  is in C1 \n",
      "X 2  is in C1 \n",
      "X 3  is in C2\n",
      "X 4  is in C2\n",
      "X 5  is in C3\n",
      "X 6  is in C3\n",
      "X 7  is in C3\n"
     ]
    }
   ],
   "source": [
    "A21 = []\n",
    "A22 = []\n",
    "A23 = []\n",
    "def suffle_class(d_array):\n",
    "    for i in range(len(d_array)):\n",
    "        if d_array[i,0]<=d_array[i,1] and d_array[i,0]<=d_array[i,2]:\n",
    "            print(\"X\",i,\" is in C1 \")\n",
    "            A21.append(X[i])\n",
    "        elif d_array[i,1]<=d_array[i,2]:\n",
    "            print(\"X\",i,\" is in C2\")\n",
    "            A22.append(X[i])\n",
    "        else:\n",
    "            print(\"X\",i,\" is in C3\")\n",
    "            A23.append(X[i])\n",
    "\n",
    "suffle_class(distance_array)"
   ]
  },
  {
   "cell_type": "code",
   "execution_count": 219,
   "metadata": {},
   "outputs": [
    {
     "name": "stdout",
     "output_type": "stream",
     "text": [
      "[[-2.0, 0.6666666666666666], [0.0, -1.0], [1.3333333333333333, 1.3333333333333333]]\n"
     ]
    },
    {
     "data": {
      "image/png": "[encoded data removed]",
      "text/plain": [
       "<Figure size 432x288 with 1 Axes>"
      ]
     },
     "metadata": {
      "needs_background": "light"
     },
     "output_type": "display_data"
    }
   ],
   "source": [
    "second_centroid = [mean_element_wise(A21),mean_element_wise(A22),mean_element_wise(A23)]\n",
    "print(second_centroid)\n",
    "draw_graph(second_centroid)"
   ]
  },
  {
   "cell_type": "code",
   "execution_count": 122,
   "metadata": {},
   "outputs": [
    {
     "name": "stdout",
     "output_type": "stream",
     "text": [
      "[[1.66666667 2.         4.06885187]\n",
      " [0.33333333 2.82842712 3.34995854]\n",
      " [1.33333333 3.60555128 3.39934634]\n",
      " [1.94365063 1.         3.29983165]\n",
      " [3.43187671 1.         2.3570226 ]\n",
      " [3.01846171 2.23606798 0.47140452]\n",
      " [3.2829526  3.16227766 0.74535599]\n",
      " [4.01386486 2.82842712 0.74535599]]\n"
     ]
    }
   ],
   "source": [
    "y1 = mean_element_wise(A21);\n",
    "y2 = mean_element_wise(A22);\n",
    "y3 = mean_element_wise(A23);\n",
    "find_Distance(y1,y2,y3)\n"
   ]
  },
  {
   "cell_type": "code",
   "execution_count": 123,
   "metadata": {},
   "outputs": [
    {
     "name": "stdout",
     "output_type": "stream",
     "text": [
      "X 0  is in C1 \n",
      "X 1  is in C1 \n",
      "X 2  is in C1 \n",
      "X 3  is in C2\n",
      "X 4  is in C2\n",
      "X 5  is in C3\n",
      "X 6  is in C3\n",
      "X 7  is in C3\n"
     ]
    }
   ],
   "source": [
    "suffle_class(distance_array)"
   ]
  },
  {
   "cell_type": "markdown",
   "metadata": {},
   "source": [
    "we will not iterating again becuase in previous and this iteration we are getting the same clusters. more over centroid will be same for both the case."
   ]
  }
 ],
 "metadata": {
  "accelerator": "GPU",
  "colab": {
   "collapsed_sections": [],
   "name": "LAB 1 Introduction to python for CT314.ipynb",
   "provenance": [],
   "version": "0.3.2"
  },
  "kernelspec": {
   "display_name": "Python 3",
   "language": "python",
   "name": "python3"
  },
  "language_info": {
   "codemirror_mode": {
    "name": "ipython",
    "version": 3
   },
   "file_extension": ".py",
   "mimetype": "text/x-python",
   "name": "python",
   "nbconvert_exporter": "python",
   "pygments_lexer": "ipython3",
   "version": "3.9.1"
  }
 },
 "nbformat": 4,
 "nbformat_minor": 1
}
